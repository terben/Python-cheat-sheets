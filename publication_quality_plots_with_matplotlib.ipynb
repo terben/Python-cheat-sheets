{
 "cells": [
  {
   "cell_type": "markdown",
   "metadata": {},
   "source": [
    "# Publication-quality plots with `matplotlib`"
   ]
  },
  {
   "cell_type": "markdown",
   "metadata": {},
   "source": [
    "To create good, informative graphics for scientific publications is a very broad and complex topic. My experience is that many authors of scientific articles obviously invest a lot of time on the text but seem to have spent only very little time to create, finetune or homogenise their figures. The graphics often seem to be close to the first output of whatever the authors plotting software shows them. The graphics of all plotting programs in their default configurations are optimised to show reasonable results *on the screen*. However, this does not lead to good results within a publication document. In fact, graphics that are optimised for a written document do not make a good first impression *on the screen*  - see also below. \n",
    "\n",
    "In this notebook, we show a possibility to configure `matplotlib` to obtain high-quality figures for publications based on LaTeX-typesetting. Our procedures also allow us to easily adapt existing `matplotlib` plotting scripts - often by just adding two additional lines of `python`-code!"
   ]
  },
  {
   "cell_type": "markdown",
   "metadata": {},
   "source": [
    "## Goals of this notebook\n",
    "Our goal is to generate homogeneous and aesthetic graphics that can easily be linked with the main text of a scientific publication. We note that this is *only one* aspect of figure-generation that typically happens at the very end of the process. We will not cover other aspects of graphics genration in this document (such as *how to choose the right type of figure to present your data* or *how and when to use colors*)."
   ]
  },
  {
   "cell_type": "markdown",
   "metadata": {},
   "source": [
    "## What typically happens"
   ]
  },
  {
   "cell_type": "markdown",
   "metadata": {},
   "source": [
    "In the following we show the usual process to generate scientific graphics and to integrate them into a LaTeX-document. The following cells perform a simple fit to a set of data from the [COBE satellite](http://lambda.gsfc.nasa.gov/product/cobe/) and plot the result:"
   ]
  },
  {
   "cell_type": "code",
   "execution_count": 1,
   "metadata": {},
   "outputs": [],
   "source": [
    "# required modules\n",
    "%matplotlib inline\n",
    "import sys\n",
    "import matplotlib.pyplot as plt\n",
    "import numpy as np\n",
    "import scipy.optimize as so\n",
    "\n",
    "# append path to find the module 'homogenise_plot'\n",
    "sys.path.append('./code')"
   ]
  },
  {
   "cell_type": "code",
   "execution_count": 2,
   "metadata": {},
   "outputs": [
    {
     "name": "stdout",
     "output_type": "stream",
     "text": [
      "Temperature of the universe: 2.725431+/-0.000030 K\n"
     ]
    }
   ],
   "source": [
    "# Fit a Planck function to COBE data:\n",
    "\n",
    "# The function to be minimised:\n",
    "def planck(f, A0, T):\n",
    "    return A0 * f**3 / (np.exp(1.439 * f / T)-1.0)\n",
    "\n",
    "# read in the data; note that loadtxt automatically\n",
    "# skips lines starting with '#' (comments)\n",
    "data = np.loadtxt(\"./data/Cobe.txt\")\n",
    "\n",
    "freq = data[:,0]\n",
    "spectrum = data[:,1]\n",
    "# note that the error is in kJ / sr and the\n",
    "# spectrum in MJ/sr!\n",
    "spectrum_err = (data[:,2] / 1000.)\n",
    "\n",
    "popt, pcov = so.curve_fit(planck, freq, spectrum,\n",
    "                          sigma=spectrum_err, absolute_sigma=True)\n",
    "\n",
    "# print result\n",
    "print(\"Temperature of the universe: %8.6f+/-%8.6f K\"\n",
    "       % (popt[1], np.sqrt(pcov[1,1])))"
   ]
  },
  {
   "cell_type": "code",
   "execution_count": 3,
   "metadata": {},
   "outputs": [
    {
     "data": {
      "image/png": "[encoded data removed]",
      "text/plain": [
       "<Figure size 432x288 with 1 Axes>"
      ]
     },
     "metadata": {
      "needs_background": "light"
     },
     "output_type": "display_data"
    }
   ],
   "source": [
    "# plot the data and the result of the fit:\n",
    "f = np.linspace(2.0, 25.0, 100)\n",
    "s = planck(f, *popt)\n",
    "\n",
    "plt.errorbar(freq, spectrum, fmt='.', yerr=spectrum_err * 400,\n",
    "             label='FIRAS data with' \"\\n\" r'$400\\sigma$ errorbars')\n",
    "plt.plot(f, s, label=\"2.73 K spectrum\")\n",
    "\n",
    "plt.xlabel(\"frequnecy [1 / cm]\")\n",
    "plt.ylabel(\"Intensity [MJy / sr]\")\n",
    "\n",
    "plt.legend()\n",
    "# save the figure to a file and also show it:\n",
    "plt.savefig(\"./figs/cobe.png\")\n",
    "plt.show()"
   ]
  },
  {
   "cell_type": "markdown",
   "metadata": {},
   "source": [
    "We note that the graphics looks reasonable *on the screen*! The obtained plot is now integrated into a LaTeX-document with commands such as\n",
    "```latex\n",
    "\\begin{figure}\n",
    "  \\centering\n",
    "  \\includegraphics[width=\\columnwidth]{cobe}\n",
    "  \\caption{Scaled down of the originial matplotlib plot.\n",
    "    Usually, the text looks very small.}\n",
    "  \\label{fig:image1}\n",
    "\\end{figure}\n",
    "```\n",
    "Note that we typically need to scale down the plot (`width=\\columnwidth`) to make it fit on a LaTeX-document page or column.\n",
    "We imported the plot into a simple LaTeX-document ([sample_document_first.tex](./LaTeX/sample_document_first.tex)) whose PDF-output is available [here](./pdf/my_sample_document_first.pdf).\n",
    "\n",
    "The essential part of the output file looks like:"
   ]
  },
  {
   "cell_type": "markdown",
   "metadata": {},
   "source": [
    "<img src=\"figs/sample_document_first_cropped.png\" style=\"width: 600px;\">"
   ]
  },
  {
   "cell_type": "markdown",
   "metadata": {},
   "source": [
    "At this stage we realise that the font sizes of labels and legends do not match well with the main text. Usually, the plot is now regenerated with modified line thicknesses, label sizes etc. It is reintegrated in our document and this iterative process is continued until the result *looks good*."
   ]
  },
  {
   "cell_type": "markdown",
   "metadata": {},
   "source": [
    "## Automatically homogenising and beautifying a plot"
   ]
  },
  {
   "cell_type": "markdown",
   "metadata": {},
   "source": [
    "We developed a module [homegenise_plot](./code/homogenise_plot.py) which only needs to be included in a plotting script before the actual plotting takes place. It takes care of necessary config parameters to create homogeneous plots which link well with the main text of a LaTeX-document. We first demonstrate its usage with the example above and discuss further details below:"
   ]
  },
  {
   "cell_type": "markdown",
   "metadata": {},
   "source": [
    "The following cell is *identical* to the plotting cell above with the following modifications:\n",
    "- the module `homogenise_plot` is imported and initialised for a figure width of 2.8 inch\n",
    "(columnwidth within a two-column document). This is the columnwidth of the LaTeX-style we use for our example. Scientific articles typically have a columnwidth of 3.5 inch which is used when this parameter is omitted.\n",
    "- physical units in the labels are typeset with the LaTeX `siunitx` package. This is discussed further below."
   ]
  },
  {
   "cell_type": "code",
   "execution_count": 5,
   "metadata": {},
   "outputs": [
    {
     "data": {
      "image/png": "[encoded data removed]",
      "text/plain": [
       "<Figure size 201.6x124.596 with 1 Axes>"
      ]
     },
     "metadata": {
      "needs_background": "light"
     },
     "output_type": "display_data"
    }
   ],
   "source": [
    "# plot the data and the result of the fit:\n",
    "import homogenise_plot as hp\n",
    "\n",
    "# create a homogenised plot for a columnwidth of 2.8 inch:\n",
    "hp.homogenise_plot(fig_width=2.8)\n",
    "\n",
    "f = np.linspace(2.0, 25.0, 100)\n",
    "s = planck(f, *popt)\n",
    "\n",
    "# note in the following that we typeset units with the LaTeX\n",
    "# siunitx-package. This is enabled within the 'homogenise_plot'\n",
    "# function\n",
    "plt.errorbar(freq, spectrum, fmt='.', yerr=spectrum_err * 400,\n",
    "             label='FIRAS data with' \"\\n\" r'$400\\sigma$ errorbars')\n",
    "plt.plot(f, s, label=r\"\\SI{2.73}{\\kelvin} spectrum\")\n",
    "\n",
    "plt.xlabel(r\"frequnecy [\\si{\\per\\centi\\meter}]\")\n",
    "plt.ylabel(r\"Intensity [\\si{\\mega\\jansky\\per\\steradian}]\")\n",
    "\n",
    "plt.legend()\n",
    "# save the figure to a file and also show it:\n",
    "plt.savefig(\"./figs/cobe_homogenise.png\")\n",
    "plt.show()\n",
    "\n",
    "# revert changes to the configuration made by homogenize_plot:\n",
    "hp.revert_params()"
   ]
  },
  {
   "cell_type": "markdown",
   "metadata": {},
   "source": [
    "We first note that the plot looks *much too small* on the screen. However, it is in exactly the correct size that no more scaling is necessary when we include this plot into our LaTeX-document! Graphics created in this way should be included with lines as:\n",
    "```latex\n",
    "\\begin{figure}\n",
    "  \\centering\n",
    "  % do NOT specify any scaling!!\n",
    "  \\includegraphics{cobe_homogenise}\n",
    "  \\caption{The new plot has the correct size and the\n",
    "  font sizes well match the main text!}\n",
    "  \\label{fig:image2}\n",
    "\\end{figure}\n",
    "```\n",
    "The result of importing both figure versions into the LaTeX-document [sample_document_second.tex](./LaTeX/sample_document_second.tex) is in this \n",
    "[PDF-document](./pdf/my_sample_document_second.pdf); see also the follwing figure:"
   ]
  },
  {
   "cell_type": "markdown",
   "metadata": {},
   "source": [
    "<img src=\"figs/sample_document_second_cropped.png\" style=\"width: 600px;\">"
   ]
  },
  {
   "cell_type": "markdown",
   "metadata": {},
   "source": [
    "## What it does and how it works"
   ]
  },
  {
   "cell_type": "markdown",
   "metadata": {},
   "source": [
    "### What the current version of the `homogenise_plot` module does\n",
    "We describe here the settings chosen for the current version of the module. Of course, you might have other preferences or different needs for some configuration parameters. We show below, how you can adapt the module to your own needs. The main concern is that you end up with a set of *homogeneous* graphics for your publication."
   ]
  },
  {
   "cell_type": "markdown",
   "metadata": {},
   "source": [
    "Integrating the module `homogenise_plot` into a plotting script influences `matplotlib` configuration as follows:\n",
    "1. We specify *a fixed size* for the graphics so that *it does not need any scaling* when being imported into a LaTeX-document.\n",
    "\n",
    "Specifying the correct dimensions for a graphic at the creation stage is essential to integrate a figure well with the main text. When specifying fixed font sizes, line widths etc., they *only* appear with the configured values if the graphic *is not rescaled* later!\n",
    "\n",
    "In my reasearch area (astronomy), most articles are published in a two-column text format, where each column has a width of 3.5 inch ($\\approx$ 90 mm). Graphics are inlined with the main text in a figure width of one column or they are *stand-alone* occupying the full pagewidth of $\\approx$ 7 inch.\n",
    "\n",
    "Concerning the figure size, the module can be initialised as follows:\n",
    "```\n",
    "import homogenise_plot as hp\n",
    "\n",
    "# create a plot with a width of 3.5 inch\n",
    "# (one column-plot)\n",
    "hp.homogenise_plot()\n",
    "\n",
    "# create a plot with a width of 7 inch\n",
    "# (two column plot)\n",
    "hp.homogenise_plot(columns=2)\n",
    "\n",
    "# explicitely specify figure width:\n",
    "# (here for 2.8 inch)\n",
    "hp.homogenise_plot(fig_width=2.8)\n",
    "\n",
    "# explicitely specify width and height:\n",
    "# (both are 2.8 inch)\n",
    "hp.homogenise_plot(fig_width=2.8, fig_height=2.8)\n",
    "```\n",
    "In all cases, when the figure height is not explicitely specified (the first three options), it is fixed to:\n",
    "$$\n",
    "\\frac{\\text{fig_height}}{\\text{fig_width}} = \\frac{\\sqrt{5} - 1}{2}.\n",
    "$$\n",
    "This *golden ratio* of figure height and figure width generally leads to very good and aesthetic results. Of course it is sometimes necessary to have a quadratic plot etc.\n",
    "\n",
    "**Note:** If you need to find out the actual columnwidth of your LaTeX document-style, you can follow for instance [this link](https://tex.stackexchange.com/questions/378178/how-to-know-the-column-width-of-a-two-column-article)."
   ]
  },
  {
   "cell_type": "markdown",
   "metadata": {},
   "source": [
    "2. The fonts for all plot elements (labels, titles, legends etc.) are set to a common size of 8 points. This gives good results for a document with a main-text font-size of 10 points. You can change this size by specifying it when initialising the module:\n",
    "\n",
    "```\n",
    "import homogenise_plot as hp\n",
    "\n",
    "# use a fontsize of 10 points instead of 8 points\n",
    "hp.homogenise_plot(fontsize=10)\n",
    "```"
   ]
  },
  {
   "cell_type": "markdown",
   "metadata": {},
   "source": [
    "3. We enable the possibility to typeset numbers and units with the LaTeX `siunitx`-package. We note that you need LaTeX to be installed on your computer to use this feature. Please see [this document](./pdf/siunitx.pdf) if you do not yet know the `siunitx` package or if you would like to learn more on the issues and problems to typeset numbers and units correctly in LaTeX.\n",
    "\n",
    "We note that LaTeX is integrated into `matplotlib` and you should use it for all mathemtical expressions within your plot! Within a plot, style conventions for typesetting mathematical expressions apply as they do for the main text. Because most plotting tools do not directly support LaTeX or switching between fonts in a plot is cumbersome, this rule is ignored by most authors.\n",
    "\n",
    "A technical remark is that LaTeX-expressions need to be realised in Python source code with *raw strings*. This ensures that the backslash character `\\` is not interpreted for *escape characters* by the Python interprester but is passed to the LaTeX-compiler - see next cell."
   ]
  },
  {
   "cell_type": "code",
   "execution_count": null,
   "metadata": {},
   "outputs": [],
   "source": [
    "# demonstration of raw strings\n",
    "\n",
    "# \\n represents newline\n",
    "normal_string = \"Thomas \\n Erben\"\n",
    "print('normal string: ', normal_string)\n",
    "\n",
    "# a raw string (inidicated by an 'r' before the quotation mark)\n",
    "# is not touched by the Python interpreter\n",
    "raw_string = r\"Thomas \\n Erben\"\n",
    "print('raw string: ', raw_string)"
   ]
  },
  {
   "cell_type": "markdown",
   "metadata": {},
   "source": [
    "4. Other settings concern the choice of a *serif font* and a graphic resolution of 300 dots per inch when the graphic is exported in a bitmap graphics format (e.g. `png`)."
   ]
  },
  {
   "cell_type": "markdown",
   "metadata": {},
   "source": [
    "### Adapting the module to your own needs\n",
    "You can easily adapt the module to your own needs. We show the source code in a cell below and it should be clear, where you need to adapt parameters if you want to. Please check [the documentaion on customizing matplotlib](https://matplotlib.org/users/customizing.html) to learn more about the (endless) possibilities to influence `matplotlib`-configuration."
   ]
  },
  {
   "cell_type": "markdown",
   "metadata": {},
   "source": [
    "Please check whether the current settings satisfy your needs before using the module. Some points that might be considered:\n",
    "\n",
    "- You should consult the authors instructions and/or style-guide of your journal and adapt the module with their requirements or recommendations.\n",
    "\n",
    "- The module is optimised for publications in scientific journals. They should be adapted for other applications such as slide-talks, PR-quality plots or large posters."
   ]
  },
  {
   "cell_type": "code",
   "execution_count": null,
   "metadata": {},
   "outputs": [],
   "source": [
    "import matplotlib\n",
    "import numpy as np\n",
    "\n",
    "# store original plot parameters so that we can revert:\n",
    "ORIG_MATPLOTLIB_CONF = dict(matplotlib.rcParams)\n",
    "\n",
    "def homogenise_plot(fig_width=None, fig_height=None, columns=1, fontsize=8):\n",
    "    \"\"\"Set up matplotlib's RC params for LaTeX plotting.\n",
    "    Call this function before plotting a figure.\n",
    "\n",
    "    Parameters\n",
    "    ----------\n",
    "    fig_width : float, optional, inches\n",
    "    fig_height : float,  optional, inches\n",
    "    columns : {1, 2}; 1 is default\n",
    "    fontsze : 8 pt default\n",
    "    \"\"\"\n",
    "\n",
    "    assert(columns in [1,2])\n",
    "\n",
    "    if fig_width is None:\n",
    "        # figure widths for one-column and two-column printing\n",
    "        # (taken from https://www.elsevier.com/authors/author-schemas/artwork-and-media-instructions/artwork-sizing)\n",
    "        if columns == 2:\n",
    "            fig_width = 7\n",
    "        else:\n",
    "            fig_width = 3.5\n",
    "\n",
    "    if fig_height is None:\n",
    "        golden_ratio = (np.sqrt(5.0) - 1.0) / 2.0    # Aesthetic ratio\n",
    "        fig_height = fig_width * golden_ratio # height in inches\n",
    "\n",
    "    params = {'backend': 'ps',\n",
    "              'text.latex.preamble':\n",
    "              [ r'\\usepackage{siunitx}',\n",
    "                r'\\usepackage[utf8]{inputenc}',\n",
    "                r'\\usepackage[T1]{fontenc}',\n",
    "                r'\\DeclareSIUnit \\jansky {Jy}' ],\n",
    "              'axes.labelsize' : fontsize,\n",
    "              'axes.titlesize' : fontsize,\n",
    "              'font.size': fontsize,\n",
    "              'legend.fontsize' : fontsize,\n",
    "              'xtick.labelsize' : fontsize,\n",
    "              'ytick.labelsize' : fontsize,\n",
    "              'axes.linewidth' : 1,\n",
    "              'lines.linewidth' : 1,\n",
    "              'text.usetex' : True,\n",
    "              'figure.figsize' : [fig_width, fig_height],\n",
    "              'font.family' : 'serif',\n",
    "              'savefig.bbox' : 'tight',\n",
    "              'savefig.dpi' : 300  # set to 600 for poster printing or PR\n",
    "                                  # figures\n",
    "    }\n",
    "\n",
    "    matplotlib.rcParams.update(params)\n",
    "\n",
    "def revert_params():\n",
    "    \"\"\"\n",
    "    reverts any changes done to matplotlib parameters and restores\n",
    "    the state before homogenize_plot was called\n",
    "    \"\"\"\n",
    "\n",
    "    matplotlib.rcParams.update(ORIG_MATPLOTLIB_CONF)\n"
   ]
  },
  {
   "cell_type": "markdown",
   "metadata": {},
   "source": [
    "## Software versions\n",
    "Here are the Python and module versions I used to create this notebook"
   ]
  },
  {
   "cell_type": "code",
   "execution_count": 1,
   "metadata": {},
   "outputs": [
    {
     "data": {
      "application/json": {
       "Software versions": [
        {
         "module": "Python",
         "version": "3.6.8 64bit [GCC 7.3.0]"
        },
        {
         "module": "IPython",
         "version": "7.4.0"
        },
        {
         "module": "OS",
         "version": "Linux 3.13.0 165 generic x86_64 with debian jessie sid"
        },
        {
         "module": "numpy",
         "version": "1.16.1"
        },
        {
         "module": "scipy",
         "version": "1.2.1"
        },
        {
         "module": "matplotlib",
         "version": "3.0.3"
        }
       ]
      },
      "text/html": [
       "<table><tr><th>Software</th><th>Version</th></tr><tr><td>Python</td><td>3.6.8 64bit [GCC 7.3.0]</td></tr><tr><td>IPython</td><td>7.4.0</td></tr><tr><td>OS</td><td>Linux 3.13.0 165 generic x86_64 with debian jessie sid</td></tr><tr><td>numpy</td><td>1.16.1</td></tr><tr><td>scipy</td><td>1.2.1</td></tr><tr><td>matplotlib</td><td>3.0.3</td></tr><tr><td colspan='2'>Mon May 06 00:57:09 2019 CEST</td></tr></table>"
      ],
      "text/latex": [
       "\\begin{tabular}{|l|l|}\\hline\n",
       "{\\bf Software} & {\\bf Version} \\\\ \\hline\\hline\n",
       "Python & 3.6.8 64bit [GCC 7.3.0] \\\\ \\hline\n",
       "IPython & 7.4.0 \\\\ \\hline\n",
       "OS & Linux 3.13.0 165 generic x86\\_64 with debian jessie sid \\\\ \\hline\n",
       "numpy & 1.16.1 \\\\ \\hline\n",
       "scipy & 1.2.1 \\\\ \\hline\n",
       "matplotlib & 3.0.3 \\\\ \\hline\n",
       "\\hline \\multicolumn{2}{|l|}{Mon May 06 00:57:09 2019 CEST} \\\\ \\hline\n",
       "\\end{tabular}\n"
      ],
      "text/plain": [
       "Software versions\n",
       "Python 3.6.8 64bit [GCC 7.3.0]\n",
       "IPython 7.4.0\n",
       "OS Linux 3.13.0 165 generic x86_64 with debian jessie sid\n",
       "numpy 1.16.1\n",
       "scipy 1.2.1\n",
       "matplotlib 3.0.3\n",
       "Mon May 06 00:57:09 2019 CEST"
      ]
     },
     "execution_count": 1,
     "metadata": {},
     "output_type": "execute_result"
    }
   ],
   "source": [
    "%reload_ext version_information\n",
    "%version_information numpy, scipy, matplotlib"
   ]
  }
 ],
 "metadata": {
  "kernelspec": {
   "display_name": "Python 3",
   "language": "python",
   "name": "python3"
  },
  "language_info": {
   "codemirror_mode": {
    "name": "ipython",
    "version": 3
   },
   "file_extension": ".py",
   "mimetype": "text/x-python",
   "name": "python",
   "nbconvert_exporter": "python",
   "pygments_lexer": "ipython3",
   "version": "3.6.8"
  }
 },
 "nbformat": 4,
 "nbformat_minor": 2
}
