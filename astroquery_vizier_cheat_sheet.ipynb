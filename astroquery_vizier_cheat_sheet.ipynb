{
 "cells": [
  {
   "cell_type": "markdown",
   "metadata": {},
   "source": [
    "# `astropquery.vizier` cheat sheet\n",
    "This notebook is a small cheat sheet on how to query *arbitrary* astronomical catalogues from Vizier with the `astroquery` module.\n",
    "\n",
    "Besides `astroquery`, knowledge on the modules `astropy.units`, `astropy.coordinates` and `astropy.tables` (amongst others) comes in handy. Those will be covered at some point in other cheat sheets.\n",
    "\n",
    "Please see the end of the notebook for the versions of `python` and `python`-modules I used.\n",
    "\n",
    "[Here](code/astroquery_vizier.py) you can find the essential code cells in the form of a `python`-script."
   ]
  },
  {
   "cell_type": "code",
   "execution_count": 1,
   "metadata": {},
   "outputs": [],
   "source": [
    "# necessary modules for this sheet:\n",
    "import astropy.units as au\n",
    "import astropy.coordinates as ac\n",
    "import astroquery.vizier as av"
   ]
  },
  {
   "cell_type": "markdown",
   "metadata": {},
   "source": [
    "Our final goal is to obtain some sources from the Gaia DR2 catalogue (Ra, Dec and G-magnitude) in a 0.5 sq. degree radius around position Ra=210.0 deg and Dec=$-10$ deg. We first want to find out which Vizier catalogue contains the Gaia DR2 data.\n",
    "\n",
    "It should be obvious from the following cell how to proceed if you are interested in other data; e.g. just substitute `Gaia DR2` with `KiDS` if you search for KiDS data etc. "
   ]
  },
  {
   "cell_type": "code",
   "execution_count": 2,
   "metadata": {
    "scrolled": true
   },
   "outputs": [
    {
     "name": "stdout",
     "output_type": "stream",
     "text": [
      "{'I/345': 'Gaia DR2 (Gaia Collaboration, 2018)', 'I/347': 'Distances to 1.33 billion stars in Gaia DR2 (Bailer-Jones+, 2018)', 'J/A+A/616/A12': 'Gaia DR2 sources in GC and dSph (Gaia Collaboration+, 2018)', 'J/A+A/616/A37': 'Close encounters to the Sun in Gaia DR2 (Bailer-Jones+, 2018)', 'J/A+A/616/L2': 'Planetary Nebulae distances in Gaia DR2 (Kimeswenger+, 2018)'}\n"
     ]
    }
   ],
   "source": [
    "# obtain a list of available Vizier catalogues with a reference to Gaia DR2\n",
    "cat_list = av.Vizier.find_catalogs(\"Gaia DR2\")\n",
    "print({k:v.description for k,v in cat_list.items()})"
   ]
  },
  {
   "cell_type": "markdown",
   "metadata": {},
   "source": [
    "It is obvious that catalogue `I/345` is what we are looking for. Next, we make a basic query around our position and see what quantities the catalogue offers:"
   ]
  },
  {
   "cell_type": "code",
   "execution_count": 3,
   "metadata": {
    "scrolled": true
   },
   "outputs": [
    {
     "name": "stdout",
     "output_type": "stream",
     "text": [
      "TableList with 2 tables:\n",
      "\t'0:I/345/gaia2' with 102 column(s) and 37 row(s) \n",
      "\t'1:I/345/ssoobs' with 27 column(s) and 2 row(s) \n"
     ]
    }
   ],
   "source": [
    "# define a sky-coordinate of our position and make a first query:\n",
    "sky_coord = ac.SkyCoord(ra=210.0, dec=-10.0, unit=(au.deg, au.deg))\n",
    "\n",
    "# do a first query with a radius of 0.05 deg around our position\n",
    "# with 'all' quantities available.\n",
    "# \n",
    "# The '**' for the columns means 'all available quantities'\n",
    "gaia_query = av.Vizier(columns = [\"**\"])\n",
    "\n",
    "# Note: instead of searching objects in a radius around central\n",
    "#       coordinates, you also can specify width and height for a rectangular\n",
    "#       region (see commented function call)\n",
    "first_query = gaia_query.query_region(sky_coord, radius=0.05*au.deg, catalog='I/345')\n",
    "\n",
    "#first_query = gaia_query.query_region(sky_coord,\n",
    "#                                      width=0.05 * au.deg,\n",
    "#                                      height=0.05 * au.deg,\n",
    "#                                      catalog='I/345')\n",
    "\n",
    "print(first_query)"
   ]
  },
  {
   "cell_type": "markdown",
   "metadata": {},
   "source": [
    "The query returns results in two (sub)source lists; please see the [Vizier WEB pages](http://vizier.u-strasbg.fr/viz-bin/VizieR?-source=I/345) for what they are. We need the `I/345/gaia2` sources."
   ]
  },
  {
   "cell_type": "code",
   "execution_count": 4,
   "metadata": {},
   "outputs": [
    {
     "name": "stdout",
     "output_type": "stream",
     "text": [
      "   _r              DR2Name            ...     DEJ2000     e_DEJ2000\n",
      "  deg                                 ...       deg          mas   \n",
      "-------- ---------------------------- ... --------------- ---------\n",
      "0.049630 Gaia DR2 3615329265900282496 ... -10.04731417520   23.1798\n",
      "0.034431 Gaia DR2 3615329403339203072 ... -10.03399973040    5.4039\n",
      "0.029292 Gaia DR2 3615329403339203456 ... -10.02881246230    9.1350\n",
      "0.039968 Gaia DR2 3615329334619759872 ... -10.03966784020   22.9965\n",
      "0.034307 Gaia DR2 3615329368979465472 ... -10.02508151320   12.3064\n",
      "0.030759 Gaia DR2 3615329403339203200 ... -10.03057564240   10.3274\n",
      "0.036726 Gaia DR2 3615329338914587392 ... -10.03497504280   22.5102\n",
      "0.035201 Gaia DR2 3615330124893743488 ... -10.01415678350   19.8746\n",
      "0.040700 Gaia DR2 3615330129188542976 ... -10.01927590590    1.0747\n",
      "0.032439 Gaia DR2 3615330129188255488 ... -10.01400928050    6.3145\n",
      "     ...                          ... ...             ...       ...\n",
      "0.038466 Gaia DR2 3615424236216282112 ...  -9.97293047099   20.0286\n",
      "0.049069 Gaia DR2 3615424201857099904 ...  -9.97957094960   42.5269\n",
      "0.023374 Gaia DR2 3615424339295495936 ...  -9.97700864810   10.6323\n",
      "0.030946 Gaia DR2 3615424343591049216 ...  -9.96904012371    1.7520\n",
      "0.036298 Gaia DR2 3615424408014978176 ...  -9.96370249144    3.6539\n",
      "0.031538 Gaia DR2 3615424339295499264 ...  -9.96853085835    5.2124\n",
      "0.030612 Gaia DR2 3615424377950787328 ...  -9.97271796144    5.6470\n",
      "0.044624 Gaia DR2 3615424446670264704 ...  -9.95884885081    1.3134\n",
      "0.048394 Gaia DR2 3615427362952482304 ...  -9.95280640276    4.8779\n",
      "0.049429 Gaia DR2 3615427466033010048 ...  -9.95148055096   25.8205\n",
      "Length = 37 rows\n"
     ]
    }
   ],
   "source": [
    "print(first_query['I/345/gaia2'])"
   ]
  },
  {
   "cell_type": "markdown",
   "metadata": {},
   "source": [
    "**Note:** The result of the query is an `astropy.table` object. If you are not familiar with it, you should have a look at [this page](http://docs.astropy.org/en/stable/table/) at some point.\n",
    "\n",
    "O.k. Let us see, what the cataogue offers and what we finally need. The following command lists all quantities with their units and a short descrption:"
   ]
  },
  {
   "cell_type": "code",
   "execution_count": null,
   "metadata": {},
   "outputs": [],
   "source": [
    "# Note: Please run the notebook yourself to see the output of the\n",
    "# following cell. It would be too big and not really useful here.\n",
    "print(first_query['I/345/gaia2'].info)"
   ]
  },
  {
   "cell_type": "markdown",
   "metadata": {},
   "source": [
    "Going through the output of the cell above, we identify the quantities `RAJ2000`, `DEJ2000`, `e_RAJ2000`, `e_DEJ2000`, `Gmag` and `e_Gmag`. We define a new query for a table with these columns and a radius of 0.5 sq. degrees around our coordinates."
   ]
  },
  {
   "cell_type": "code",
   "execution_count": 5,
   "metadata": {},
   "outputs": [
    {
     "name": "stdout",
     "output_type": "stream",
     "text": [
      "    RAJ2000         DEJ2000     e_RAJ2000 e_DEJ2000   Gmag  e_Gmag\n",
      "      deg             deg          mas       mas      mag    mag  \n",
      "--------------- --------------- --------- --------- ------- ------\n",
      "210.09818004000 -10.47705412260   17.1418   12.4692 19.9721 0.0066\n",
      "210.11374455600 -10.47889809570   13.8468    9.6949 19.5045 0.0049\n",
      "210.10041218500 -10.47451610980    1.4436    1.2227 15.2191 0.0008\n",
      "210.09935845500 -10.47421244060   12.3307    9.4673 19.0598 0.0053\n",
      "210.14173754100 -10.47672446370   14.7450   10.2879 19.4335 0.0150\n",
      "210.14565966800 -10.47012077380   20.5948   16.8847 20.0346 0.0088\n",
      "210.15799876400 -10.47198806740   17.0740   13.0038 19.8334 0.0072\n",
      "210.15671894100 -10.46717056340   13.1674    9.7731 19.5070 0.0065\n",
      "210.16155320000 -10.46157060440   16.7547   12.1941 19.7505 0.0067\n",
      "210.13158960300 -10.45846240970    2.9899    2.2955 20.0448 0.0138\n",
      "            ...             ...       ...       ...     ...    ...\n",
      "210.22911171900  -9.56777260186   20.1259   18.3684 19.7609 0.0079\n",
      "210.23916101300  -9.58529827326    1.6995    2.3605 20.6579 0.0193\n",
      "210.23480305400  -9.56026172584   31.7859   26.0114 20.2621 0.0122\n",
      "210.21044529600  -9.56077637489   24.1066   22.7082 19.2135 0.0160\n",
      "210.21021122800  -9.56079247875   18.1188   32.9897 20.3684 0.0123\n",
      "210.21942198900  -9.56646574707    4.1567    4.0709 17.4414 0.0017\n",
      "210.21120456300  -9.56727431228   22.4451   20.4781 19.8649 0.0094\n",
      "210.22341616300  -9.55826169846    2.9632    2.7298 16.5430 0.0014\n",
      "210.17231138400  -9.53533633166   22.2057   20.2902 19.9953 0.0081\n",
      "210.19869697200  -9.54706609190   19.8323   18.2339 19.8731 0.0072\n",
      "Length = 4429 rows\n"
     ]
    }
   ],
   "source": [
    "# define query for the columns we want:\n",
    "gaia_query = av.Vizier(columns = [\"RAJ2000\", \"DEJ2000\",\n",
    "                                  \"e_RAJ2000\", \"e_DEJ2000\", \"Gmag\", \"e_Gmag\"])\n",
    "\n",
    "# the following line is necessary that we get *all* sources and not only the first 50:\n",
    "gaia_query.ROW_LIMIT = -1\n",
    "query_result = gaia_query.query_region(sky_coord, radius=0.5 * au.deg,\n",
    "                                       catalog='I/345')\n",
    "\n",
    "print(query_result['I/345/gaia2'])"
   ]
  },
  {
   "cell_type": "markdown",
   "metadata": {},
   "source": [
    "We want to export the table to an `ASCII`-file. We note that the position errors are in units of milliarcseconds. We convert them to degrees before the export:"
   ]
  },
  {
   "cell_type": "code",
   "execution_count": 6,
   "metadata": {
    "scrolled": true
   },
   "outputs": [
    {
     "name": "stdout",
     "output_type": "stream",
     "text": [
      "    RAJ2000         DEJ2000         e_RAJ2000     ...   Gmag  e_Gmag\n",
      "      deg             deg              deg        ...   mag    mag  \n",
      "--------------- --------------- ----------------- ... ------- ------\n",
      "210.09818004000 -10.47705412260 4.76161111111e-06 ... 19.9721 0.0066\n",
      "210.11374455600 -10.47889809570 3.84633333333e-06 ... 19.5045 0.0049\n",
      "210.10041218500 -10.47451610980          4.01e-07 ... 15.2191 0.0008\n",
      "210.09935845500 -10.47421244060 3.42519444444e-06 ... 19.0598 0.0053\n",
      "210.14173754100 -10.47672446370 4.09583333333e-06 ... 19.4335 0.0150\n",
      "210.14565966800 -10.47012077380 5.72077777778e-06 ... 20.0346 0.0088\n",
      "210.15799876400 -10.47198806740 4.74277777778e-06 ... 19.8334 0.0072\n",
      "210.15671894100 -10.46717056340 3.65761111111e-06 ... 19.5070 0.0065\n",
      "210.16155320000 -10.46157060440 4.65408333333e-06 ... 19.7505 0.0067\n",
      "210.13158960300 -10.45846240970 8.30527777778e-07 ... 20.0448 0.0138\n",
      "            ...             ...               ... ...     ...    ...\n",
      "210.22911171900  -9.56777260186 5.59052777778e-06 ... 19.7609 0.0079\n",
      "210.23916101300  -9.58529827326 4.72083333333e-07 ... 20.6579 0.0193\n",
      "210.23480305400  -9.56026172584 8.82941666667e-06 ... 20.2621 0.0122\n",
      "210.21044529600  -9.56077637489 6.69627777778e-06 ... 19.2135 0.0160\n",
      "210.21021122800  -9.56079247875         5.033e-06 ... 20.3684 0.0123\n",
      "210.21942198900  -9.56646574707 1.15463888889e-06 ... 17.4414 0.0017\n",
      "210.21120456300  -9.56727431228       6.23475e-06 ... 19.8649 0.0094\n",
      "210.22341616300  -9.55826169846 8.23111111111e-07 ... 16.5430 0.0014\n",
      "210.17231138400  -9.53533633166       6.16825e-06 ... 19.9953 0.0081\n",
      "210.19869697200  -9.54706609190 5.50897222222e-06 ... 19.8731 0.0072\n",
      "Length = 4429 rows\n"
     ]
    }
   ],
   "source": [
    "query_result['I/345/gaia2']['e_RAJ2000'] = \\\n",
    "  query_result['I/345/gaia2']['e_RAJ2000'].to(au.deg)\n",
    "query_result['I/345/gaia2']['e_DEJ2000'] = \\\n",
    "  query_result['I/345/gaia2']['e_DEJ2000'].to(au.deg)\n",
    "print(query_result['I/345/gaia2'])    "
   ]
  },
  {
   "cell_type": "markdown",
   "metadata": {},
   "source": [
    "Finally export the table to ASCII-catalogues. Of course you can export to any format that `astropy.table` supports - see [this page](http://docs.astropy.org/en/stable/io/unified.html#table-io) for more details."
   ]
  },
  {
   "cell_type": "code",
   "execution_count": null,
   "metadata": {
    "scrolled": true
   },
   "outputs": [],
   "source": [
    "# writes an ASCII catalogue to your disk\n",
    "query_result['I/345/gaia2'].write('gaia.txt', format='ascii.commented_header',\n",
    "                                  overwrite=True)\n",
    "# writes an 'extended csv-catalogue' to your disk. This ASCII-format also\n",
    "# contains the catalogues meta-data (units and column description) in\n",
    "# a standardized form.\n",
    "query_result['I/345/gaia2'].write('gaia.csv', format='ascii.ecsv',\n",
    "                                  overwrite=True)"
   ]
  },
  {
   "cell_type": "markdown",
   "metadata": {},
   "source": [
    "## Software versions\n",
    "Here are the Python and module versions I used to create this notebook"
   ]
  },
  {
   "cell_type": "code",
   "execution_count": 7,
   "metadata": {},
   "outputs": [
    {
     "data": {
      "application/json": {
       "Software versions": [
        {
         "module": "Python",
         "version": "3.6.6 64bit [GCC 7.2.0]"
        },
        {
         "module": "IPython",
         "version": "6.5.0"
        },
        {
         "module": "OS",
         "version": "Linux 3.13.0 147 generic x86_64 with debian jessie sid"
        },
        {
         "module": "astropy",
         "version": "3.0.4"
        },
        {
         "module": "astroquery",
         "version": "0.3.8"
        }
       ]
      },
      "text/html": [
       "<table><tr><th>Software</th><th>Version</th></tr><tr><td>Python</td><td>3.6.6 64bit [GCC 7.2.0]</td></tr><tr><td>IPython</td><td>6.5.0</td></tr><tr><td>OS</td><td>Linux 3.13.0 147 generic x86_64 with debian jessie sid</td></tr><tr><td>astropy</td><td>3.0.4</td></tr><tr><td>astroquery</td><td>0.3.8</td></tr><tr><td colspan='2'>Mon Aug 20 00:24:24 2018 CEST</td></tr></table>"
      ],
      "text/latex": [
       "\\begin{tabular}{|l|l|}\\hline\n",
       "{\\bf Software} & {\\bf Version} \\\\ \\hline\\hline\n",
       "Python & 3.6.6 64bit [GCC 7.2.0] \\\\ \\hline\n",
       "IPython & 6.5.0 \\\\ \\hline\n",
       "OS & Linux 3.13.0 147 generic x86\\_64 with debian jessie sid \\\\ \\hline\n",
       "astropy & 3.0.4 \\\\ \\hline\n",
       "astroquery & 0.3.8 \\\\ \\hline\n",
       "\\hline \\multicolumn{2}{|l|}{Mon Aug 20 00:24:24 2018 CEST} \\\\ \\hline\n",
       "\\end{tabular}\n"
      ],
      "text/plain": [
       "Software versions\n",
       "Python 3.6.6 64bit [GCC 7.2.0]\n",
       "IPython 6.5.0\n",
       "OS Linux 3.13.0 147 generic x86_64 with debian jessie sid\n",
       "astropy 3.0.4\n",
       "astroquery 0.3.8\n",
       "Mon Aug 20 00:24:24 2018 CEST"
      ]
     },
     "execution_count": 7,
     "metadata": {},
     "output_type": "execute_result"
    }
   ],
   "source": [
    "%reload_ext version_information\n",
    "%version_information astropy, astroquery"
   ]
  },
  {
   "cell_type": "code",
   "execution_count": null,
   "metadata": {},
   "outputs": [],
   "source": []
  }
 ],
 "metadata": {
  "kernelspec": {
   "display_name": "Python 3",
   "language": "python",
   "name": "python3"
  },
  "language_info": {
   "codemirror_mode": {
    "name": "ipython",
    "version": 3
   },
   "file_extension": ".py",
   "mimetype": "text/x-python",
   "name": "python",
   "nbconvert_exporter": "python",
   "pygments_lexer": "ipython3",
   "version": "3.6.6"
  }
 },
 "nbformat": 4,
 "nbformat_minor": 2
}
